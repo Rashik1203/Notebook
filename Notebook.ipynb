{
 "cells": [
  {
   "cell_type": "markdown",
   "id": "ca72c4b6",
   "metadata": {},
   "source": [
    "# Notebook"
   ]
  },
  {
   "cell_type": "markdown",
   "id": "3f07fff2",
   "metadata": {},
   "source": [
    "### Introduction "
   ]
  },
  {
   "cell_type": "markdown",
   "id": "0d37b076",
   "metadata": {},
   "source": [
    "In this notebook, Data Science Tools and Ecosystem are summarized."
   ]
  },
  {
   "cell_type": "markdown",
   "id": "4cb7b496",
   "metadata": {},
   "source": [
    "**Objectives:**\n",
    "- To get oriented with various tools of data science\n",
    "- To gain expertise on different tools such as R, Jupyter,Python Notebook and others that are used in data scince"
   ]
  },
  {
   "cell_type": "markdown",
   "id": "1d96a8d7",
   "metadata": {},
   "source": [
    "Some of the popular languages that Data Scientists use are:\n",
    "1. R\n",
    "2. Python\n",
    "3. Scala\n",
    "4. SQL"
   ]
  },
  {
   "cell_type": "markdown",
   "id": "d4d489db",
   "metadata": {},
   "source": [
    "Some of the commonly used libraries used by Data Scientists include:\n",
    "1. Pandas\n",
    "2. Numpy\n",
    "3. Scikit-Learn\n",
    "4. Pytorch1"
   ]
  },
  {
   "cell_type": "markdown",
   "id": "89d860f4",
   "metadata": {},
   "source": [
    "## Data Science Tools"
   ]
  },
  {
   "cell_type": "markdown",
   "id": "a1aff8d4",
   "metadata": {},
   "source": [
    "|Data Sciencetools|\n",
    "|-----------------|\n",
    "|R studio|\n",
    "|Anaconda|\n",
    "|IBM Watson Studio|"
   ]
  },
  {
   "cell_type": "markdown",
   "id": "826a9a0e",
   "metadata": {},
   "source": [
    "### Below are a few examples of evaluating arithmetic expressions in Python"
   ]
  },
  {
   "cell_type": "code",
   "execution_count": 13,
   "id": "1b468447",
   "metadata": {},
   "outputs": [
    {
     "data": {
      "text/plain": [
       "17"
      ]
     },
     "execution_count": 13,
     "metadata": {},
     "output_type": "execute_result"
    }
   ],
   "source": [
    "(3*4)+5\n",
    "# This a simple arithmetic expression to mutiply then add integers"
   ]
  },
  {
   "cell_type": "code",
   "execution_count": 14,
   "id": "2668f5cb",
   "metadata": {},
   "outputs": [
    {
     "name": "stdout",
     "output_type": "stream",
     "text": [
      "3.3333333333333335\n"
     ]
    }
   ],
   "source": [
    "minutes = 200\n",
    "hours = minutes / 60\n",
    "print(hours)\n",
    "#This will convert 200 minutes to hours by diving by 60"
   ]
  },
  {
   "cell_type": "markdown",
   "id": "a055486b",
   "metadata": {},
   "source": [
    "## Author "
   ]
  },
  {
   "cell_type": "markdown",
   "id": "09e48fcb",
   "metadata": {},
   "source": [
    "RASHIK MAHMUD ORCHI"
   ]
  }
 ],
 "metadata": {
  "kernelspec": {
   "display_name": "Python 3 (ipykernel)",
   "language": "python",
   "name": "python3"
  },
  "language_info": {
   "codemirror_mode": {
    "name": "ipython",
    "version": 3
   },
   "file_extension": ".py",
   "mimetype": "text/x-python",
   "name": "python",
   "nbconvert_exporter": "python",
   "pygments_lexer": "ipython3",
   "version": "3.10.9"
  }
 },
 "nbformat": 4,
 "nbformat_minor": 5
}
